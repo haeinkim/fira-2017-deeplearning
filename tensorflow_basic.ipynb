{
 "cells": [
  {
   "cell_type": "markdown",
   "metadata": {},
   "source": [
    "# Basic operations"
   ]
  },
  {
   "cell_type": "code",
   "execution_count": 7,
   "metadata": {},
   "outputs": [
    {
     "name": "stdout",
     "output_type": "stream",
     "text": [
      "Tensor(\"Const_10:0\", shape=(3, 4, 5), dtype=float32)\n",
      "Tensor(\"random_normal_2:0\", shape=(3, 4, 5), dtype=float32)\n"
     ]
    }
   ],
   "source": [
    "import tensorflow as tf\n",
    "a = tf.constant(1.0, dtype=tf.float32)\n",
    "b = tf.constant(1.0, shape=[3,4])\n",
    "c = tf.constant(1.0, shape=[3,4,5])\n",
    "d = tf.random_normal(shape=[3,4,5])\n",
    "\n",
    "print (c)\n",
    "print (d)"
   ]
  },
  {
   "cell_type": "code",
   "execution_count": 5,
   "metadata": {},
   "outputs": [
    {
     "name": "stdout",
     "output_type": "stream",
     "text": [
      "3.0\n"
     ]
    }
   ],
   "source": [
    "import tensorflow as tf\n",
    "\n",
    "a = tf.constant(1.0, dtype=tf.float32)\n",
    "b = tf.constant(2.0, dtype=tf.float32)\n",
    "c = tf.add(a,b)\n",
    "\n",
    "sess = tf.Session()\n",
    "\n",
    "print (sess.run(c))\n",
    "\n",
    "# c = tf.add(a,b)\n",
    "# c = tf.subtract(a,b)\n",
    "# c = tf.multiply(a,b)\n",
    "# c = tf.div(a,b)"
   ]
  },
  {
   "cell_type": "code",
   "execution_count": 12,
   "metadata": {},
   "outputs": [
    {
     "name": "stdout",
     "output_type": "stream",
     "text": [
      "3.0\n",
      "6.5\n",
      "[  7.  10.]\n",
      "[[  7.   10. ]\n",
      " [ 14.   20.5]]\n"
     ]
    }
   ],
   "source": [
    "a = tf.placeholder(dtype=tf.float32, shape=None)\n",
    "b = tf.placeholder(dtype=tf.float32, shape=None)\n",
    "c = a + b\n",
    "\n",
    "with tf.Session() as sess:\n",
    "    feed = {a:1, b:2}\n",
    "    print (sess.run(c, feed_dict=feed))\n",
    "    feed = {a:2, b:4.5}\n",
    "    print (sess.run(c, feed_dict=feed))\n",
    "    feed = {a:[2,4], b:[5,6]}\n",
    "    print (sess.run(c, feed_dict=feed))\n",
    "    feed = {a:[[2,4],[4,5]], b:[[5,6],[10,15.5]]}\n",
    "    print (sess.run(c, feed_dict=feed))"
   ]
  },
  {
   "cell_type": "code",
   "execution_count": 13,
   "metadata": {},
   "outputs": [
    {
     "name": "stdout",
     "output_type": "stream",
     "text": [
      "[[ 1.23467058 -1.45026221 -1.1729658 ]\n",
      " [-1.23717298 -1.32387524 -1.19197423]]\n"
     ]
    }
   ],
   "source": [
    "import numpy as np\n",
    "a = np.random.randn(2,3)\n",
    "print(a)"
   ]
  },
  {
   "cell_type": "code",
   "execution_count": 14,
   "metadata": {
    "collapsed": true
   },
   "outputs": [],
   "source": [
    "W = tf.Variable(1.0, dtype=tf.float32)\n",
    "b = tf.Variable(1.0, dtype=tf.float32)\n",
    "x = tf.placeholder(dtype=tf.float32, shape=[])\n",
    "linear_model_output = W * x + b\n",
    "\n",
    "init_op = tf.global_variables_initializer()\n",
    "\n",
    "with tf.Session() as sess:\n",
    "    sess.run(init_op)\n",
    "    feed = {x:5.0}\n",
    "    sess.run(linear_model_output, feed_dict=feed)"
   ]
  },
  {
   "cell_type": "code",
   "execution_count": 35,
   "metadata": {
    "collapsed": true
   },
   "outputs": [],
   "source": [
    "W = tf.Variable(tf.random_normal(shape=[]), dtype=tf.float32)\n",
    "b = tf.Variable(tf.random_normal(shape=[]), dtype=tf.float32)\n",
    "x = tf.placeholder(dtype=tf.float32, shape=[])\n",
    "\n",
    "linear_model_output = W * x + b\n",
    "\n",
    "init_op = tf.global_variables_initializer()\n",
    "\n",
    "with tf.Session() as sess:\n",
    "    sess.run(init_op)\n",
    "    feed = {x:5.0}\n",
    "    out = sess.run(linear_model_output, feed_dict=feed)"
   ]
  },
  {
   "cell_type": "code",
   "execution_count": 36,
   "metadata": {},
   "outputs": [
    {
     "name": "stdout",
     "output_type": "stream",
     "text": [
      "5.54643\n"
     ]
    }
   ],
   "source": [
    "print (out)"
   ]
  },
  {
   "cell_type": "markdown",
   "metadata": {},
   "source": [
    "# Quiz 0"
   ]
  },
  {
   "cell_type": "code",
   "execution_count": 37,
   "metadata": {},
   "outputs": [
    {
     "name": "stdout",
     "output_type": "stream",
     "text": [
      "[[ 0.08505565 -0.58490849  1.83167613 -2.70274448  2.42757177  2.81944656]\n",
      " [-6.17005873  1.4808042  -3.16379309 -1.0665251   5.50483131  5.7013278 ]\n",
      " [-1.84733009 -1.14232898 -2.47992396 -0.03241412  0.91053033  0.87809598]]\n"
     ]
    }
   ],
   "source": [
    "import tensorflow as tf\n",
    "import numpy as np\n",
    "\n",
    "a = tf.placeholder(dtype=tf.float32, shape=[3,4])\n",
    "b = tf.placeholder(dtype=tf.float32, shape=[4,6])\n",
    "c = tf.matmul(a,b)\n",
    "\n",
    "with tf.Session() as sess:\n",
    "    feed = {a:np.random.randn(3,4), b:np.random.randn(4,6)}\n",
    "    \n",
    "    print(sess.run(c, feed_dict=feed))"
   ]
  }
 ],
 "metadata": {
  "kernelspec": {
   "display_name": "Python 3",
   "language": "python",
   "name": "python3"
  },
  "language_info": {
   "codemirror_mode": {
    "name": "ipython",
    "version": 3
   },
   "file_extension": ".py",
   "mimetype": "text/x-python",
   "name": "python",
   "nbconvert_exporter": "python",
   "pygments_lexer": "ipython3",
   "version": "3.6.1"
  }
 },
 "nbformat": 4,
 "nbformat_minor": 2
}
